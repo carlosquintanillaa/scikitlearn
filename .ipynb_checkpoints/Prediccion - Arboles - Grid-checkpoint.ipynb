{
 "cells": [
  {
   "cell_type": "code",
   "execution_count": null,
   "id": "ac5f38cf",
   "metadata": {},
   "outputs": [],
   "source": [
    "# Load libraries\n",
    "import numpy as np\n",
    "import pandas as pd\n",
    "from sklearn.model_selection import cross_val_score, KFold, GridSearchCV\n",
    "from sklearn.metrics import mean_squared_error, make_scorer \n",
    "from sklearn.tree import DecisionTreeRegressor \n",
    "from sklearn.preprocessing import StandardScaler, OneHotEncoder\n",
    "from sklearn.compose import ColumnTransformer \n",
    "from sklearn.pipeline import Pipeline"
   ]
  },
  {
   "cell_type": "code",
   "execution_count": null,
   "id": "3d70da19",
   "metadata": {},
   "outputs": [],
   "source": [
    "# Load data\n",
    "diamantes1 = pd.read_csv(\"diamantes1.csv\")"
   ]
  },
  {
   "cell_type": "code",
   "execution_count": null,
   "id": "da62ac61",
   "metadata": {},
   "outputs": [],
   "source": [
    "# Define roles for diamantes1.csv\n",
    "y = diamantes1.price\n",
    "X = diamantes1.drop(diamantes1.columns[[0,7]],axis=1)"
   ]
  },
  {
   "cell_type": "code",
   "execution_count": null,
   "id": "50a24068",
   "metadata": {},
   "outputs": [],
   "source": [
    "# Define the preprocessing pipeline\n",
    "categorical_features = X.select_dtypes(include=['object','category']).columns\n",
    "numeric_features = X.select_dtypes(exclude=['object','category']).columns\n",
    "\n",
    "preprocessor = ColumnTransformer(\n",
    "        transformers=[\n",
    "            ('cat',OneHotEncoder(handle_unknown='ignore',sparse_output=False),categorical_features)\n",
    "        ],\n",
    "    remainder = 'passthrough'\n",
    ")"
   ]
  },
  {
   "cell_type": "code",
   "execution_count": null,
   "id": "c46e3d8a",
   "metadata": {},
   "outputs": [],
   "source": [
    "# Combine preprocessing model and the KNN regression model into a single pipeline\n",
    "param_grid = {'tree__max_depth':  [3,5,10,20]}\n",
    "\n",
    "modelo_tree = Pipeline(steps=[\n",
    "    ('preprocessor',preprocessor),\n",
    "    ('tree',DecisionTreeRegressor())\n",
    "])"
   ]
  },
  {
   "cell_type": "code",
   "execution_count": null,
   "id": "ff45b1f8",
   "metadata": {},
   "outputs": [],
   "source": [
    "# Setup 10-fold cross-validation\n",
    "random_seed = 1\n",
    "kf = KFold(n_splits=10,shuffle=True,random_state=random_seed)\n",
    "\n",
    "\n",
    "# Define RMSE\n",
    "def rmse(y_true,y_pred):\n",
    "    return np.sqrt(mean_squared_error(y_true,y_pred))\n",
    "\n",
    "scoring = make_scorer(rmse,greater_is_better=False)\n",
    "\n",
    "# Define Grid\n",
    "modelo_tree_grid = GridSearchCV(modelo_tree,param_grid,cv=kf,scoring=scoring)\n",
    "\n",
    "# Estimate the best model\n",
    "modelo_tree_grid.fit(X,y)"
   ]
  },
  {
   "cell_type": "code",
   "execution_count": null,
   "id": "7bf0f06e",
   "metadata": {},
   "outputs": [],
   "source": [
    "resultados=pd.DataFrame(modelo_tree_grid.cv_results_)\n",
    "resultados.loc[:,['param_tree__max_depth','mean_test_score','std_test_score']]"
   ]
  },
  {
   "cell_type": "code",
   "execution_count": null,
   "id": "a6cb78c2",
   "metadata": {},
   "outputs": [],
   "source": [
    "# Print the best parameters & the best score\n",
    "print(\"Best Parameters:\",modelo_tree_grid.best_params_)\n",
    "print(\"Best Cross-Validation RMSE:\",modelo_tree_grid.best_score_)"
   ]
  },
  {
   "cell_type": "code",
   "execution_count": null,
   "id": "09f2a53c",
   "metadata": {},
   "outputs": [],
   "source": [
    "diamantes2 = pd.read_csv(\"diamantes2.csv\")"
   ]
  },
  {
   "cell_type": "code",
   "execution_count": null,
   "id": "c79aa8e5",
   "metadata": {},
   "outputs": [],
   "source": [
    "newy = diamantes2.price\n",
    "newX = diamantes2.drop(diamantes2.columns[[0,7]],axis=1)"
   ]
  },
  {
   "cell_type": "code",
   "execution_count": null,
   "id": "cf094ddc",
   "metadata": {},
   "outputs": [],
   "source": [
    "y_pred = modelo_tree_grid.predict(newX)\n",
    "# Compute Mean Squared Error\n",
    "mse = mean_squared_error(newy,y_pred)\n",
    "rmse = np.sqrt(mse)\n",
    "print(f\"RMSE: {rmse}\")"
   ]
  },
  {
   "cell_type": "code",
   "execution_count": null,
   "id": "be73dfbc",
   "metadata": {},
   "outputs": [],
   "source": []
  }
 ],
 "metadata": {
  "kernelspec": {
   "display_name": "Python 3 (ipykernel)",
   "language": "python",
   "name": "python3"
  },
  "language_info": {
   "codemirror_mode": {
    "name": "ipython",
    "version": 3
   },
   "file_extension": ".py",
   "mimetype": "text/x-python",
   "name": "python",
   "nbconvert_exporter": "python",
   "pygments_lexer": "ipython3",
   "version": "3.11.4"
  }
 },
 "nbformat": 4,
 "nbformat_minor": 5
}
