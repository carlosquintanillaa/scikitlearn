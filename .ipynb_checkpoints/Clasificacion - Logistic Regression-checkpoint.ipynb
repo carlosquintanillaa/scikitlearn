{
 "cells": [
  {
   "cell_type": "code",
   "execution_count": null,
   "id": "ac5f38cf",
   "metadata": {},
   "outputs": [],
   "source": [
    "# Load libraries\n",
    "import numpy as np\n",
    "import pandas as pd\n",
    "from sklearn.model_selection import cross_val_score, StratifiedKFold, cross_validate\n",
    "from sklearn.metrics import accuracy_score, confusion_matrix, roc_auc_score\n",
    "from sklearn.linear_model import LogisticRegression\n",
    "from sklearn.preprocessing import OneHotEncoder \n",
    "from sklearn.compose import ColumnTransformer \n",
    "from sklearn.pipeline import Pipeline"
   ]
  },
  {
   "cell_type": "code",
   "execution_count": null,
   "id": "3d70da19",
   "metadata": {},
   "outputs": [],
   "source": [
    "# Load data\n",
    "bank1 = pd.read_csv(\"bank1.csv\")"
   ]
  },
  {
   "cell_type": "code",
   "execution_count": null,
   "id": "da62ac61",
   "metadata": {},
   "outputs": [],
   "source": [
    "# Define roles for diamantes1.csv\n",
    "y = np.where(bank1['y']=='yes',1,0)\n",
    "X = bank1.drop(bank1.columns[[0,9]],axis=1)"
   ]
  },
  {
   "cell_type": "code",
   "execution_count": null,
   "id": "50a24068",
   "metadata": {},
   "outputs": [],
   "source": [
    "# Define the preprocessing pipeline\n",
    "categorical_features = X.select_dtypes(include=['object','category']).columns\n",
    "numeric_features = X.select_dtypes(exclude=['object','category']).columns\n",
    "\n",
    "preprocessor = ColumnTransformer(\n",
    "        transformers=[\n",
    "            ('cat',OneHotEncoder(handle_unknown='ignore',sparse_output=False),categorical_features)\n",
    "        ],\n",
    "        remainder='passthrough'\n",
    ")"
   ]
  },
  {
   "cell_type": "code",
   "execution_count": null,
   "id": "c46e3d8a",
   "metadata": {},
   "outputs": [],
   "source": [
    "# Combine preprocessing model and the logistic regression model into a single pipeline\n",
    "modelo_logistic = Pipeline(steps=[\n",
    "    ('preprocessor',preprocessor),\n",
    "    ('logistic',LogisticRegression(C=1e25,max_iter=200))\n",
    "])"
   ]
  },
  {
   "cell_type": "code",
   "execution_count": null,
   "id": "ff45b1f8",
   "metadata": {},
   "outputs": [],
   "source": [
    "# Setup 10-fold stratified cross-validation\n",
    "random_seed = 1\n",
    "kf = StratifiedKFold(n_splits=10,shuffle=True,random_state=random_seed)\n",
    "\n",
    "scores = cross_val_score(modelo_logistic,X,y,cv=kf,scoring='roc_auc')\n",
    "np.mean(scores)"
   ]
  },
  {
   "cell_type": "code",
   "execution_count": null,
   "id": "99bbb10d",
   "metadata": {},
   "outputs": [],
   "source": [
    "# Setup 10-fold stratified cross-validation\n",
    "random_seed = 1\n",
    "kf = StratifiedKFold(n_splits=10,shuffle=True,random_state=random_seed)\n",
    "\n",
    "scoring = ['accuracy','roc_auc']\n",
    "results = cross_validate(modelo_logistic,X,y,cv=kf,scoring=scoring) "
   ]
  },
  {
   "cell_type": "code",
   "execution_count": null,
   "id": "08dde886",
   "metadata": {},
   "outputs": [],
   "source": [
    "print(\"Mean Accuracy:\", np.mean(results['test_accuracy']))\n",
    "print(\"Mean AUC:\", np.mean(results['test_roc_auc']))"
   ]
  },
  {
   "cell_type": "code",
   "execution_count": null,
   "id": "a84e4dbe",
   "metadata": {},
   "outputs": [],
   "source": [
    "modelo_logistic.fit(X,y)"
   ]
  },
  {
   "cell_type": "code",
   "execution_count": null,
   "id": "09f2a53c",
   "metadata": {},
   "outputs": [],
   "source": [
    "bank2 = pd.read_csv(\"bank2.csv\")"
   ]
  },
  {
   "cell_type": "code",
   "execution_count": null,
   "id": "c79aa8e5",
   "metadata": {},
   "outputs": [],
   "source": [
    "newy = np.where(bank2['y']=='yes',1,0)\n",
    "newX = bank2.drop(bank2.columns[[0,9]],axis=1)"
   ]
  },
  {
   "cell_type": "code",
   "execution_count": null,
   "id": "cf094ddc",
   "metadata": {},
   "outputs": [],
   "source": [
    "y_pred = modelo_logistic.predict(newX)\n",
    "probs_pred = modelo_logistic.predict_proba(newX)[:,1]\n",
    "probs_pred"
   ]
  },
  {
   "cell_type": "code",
   "execution_count": null,
   "id": "be73dfbc",
   "metadata": {},
   "outputs": [],
   "source": [
    "print(\"Accuracy:\",accuracy_score(newy,y_pred))\n",
    "print(\"Confusion Matrix:\\n\",confusion_matrix(newy,y_pred))\n",
    "print(\"AUC:\",roc_auc_score(newy,probs_pred))"
   ]
  },
  {
   "cell_type": "code",
   "execution_count": null,
   "id": "a56cd87e",
   "metadata": {},
   "outputs": [],
   "source": [
    "# Change cut-off point\n",
    "cutoff = 0.25 \n",
    "y_pred_25 = (probs_pred >= cutoff).astype(int)"
   ]
  },
  {
   "cell_type": "code",
   "execution_count": null,
   "id": "649058db",
   "metadata": {},
   "outputs": [],
   "source": [
    "print(\"Accuracy:\",accuracy_score(newy,y_pred_25))\n",
    "print(\"Confusion Matrix:\\n\",confusion_matrix(newy,y_pred_25))"
   ]
  },
  {
   "cell_type": "code",
   "execution_count": null,
   "id": "b537eb74",
   "metadata": {},
   "outputs": [],
   "source": []
  }
 ],
 "metadata": {
  "kernelspec": {
   "display_name": "Python 3 (ipykernel)",
   "language": "python",
   "name": "python3"
  },
  "language_info": {
   "codemirror_mode": {
    "name": "ipython",
    "version": 3
   },
   "file_extension": ".py",
   "mimetype": "text/x-python",
   "name": "python",
   "nbconvert_exporter": "python",
   "pygments_lexer": "ipython3",
   "version": "3.11.4"
  }
 },
 "nbformat": 4,
 "nbformat_minor": 5
}
