{
 "cells": [
  {
   "cell_type": "code",
   "execution_count": null,
   "id": "ac5f38cf",
   "metadata": {},
   "outputs": [],
   "source": [
    "# Load libraries\n",
    "import numpy as np\n",
    "import pandas as pd\n",
    "from sklearn.model_selection import cross_val_score, KFold\n",
    "from sklearn.metrics import mean_squared_error \n",
    "from sklearn.linear_model import LinearRegression\n",
    "from sklearn.preprocessing import OneHotEncoder \n",
    "from sklearn.compose import ColumnTransformer \n",
    "from sklearn.pipeline import Pipeline"
   ]
  },
  {
   "cell_type": "code",
   "execution_count": null,
   "id": "3d70da19",
   "metadata": {},
   "outputs": [],
   "source": [
    "# Load data\n",
    "diamantes1 = pd.read_csv(\"diamantes1.csv\")"
   ]
  },
  {
   "cell_type": "code",
   "execution_count": null,
   "id": "da62ac61",
   "metadata": {},
   "outputs": [],
   "source": [
    "# Define roles for diamantes1.csv\n",
    "y = diamantes1.price\n",
    "X = diamantes1.drop(diamantes1.columns[[0,7]],axis=1)"
   ]
  },
  {
   "cell_type": "code",
   "execution_count": null,
   "id": "50a24068",
   "metadata": {},
   "outputs": [],
   "source": [
    "# Define the preprocessing pipeline\n",
    "categorical_features = X.select_dtypes(include=['object','category']).columns\n",
    "numeric_features = X.select_dtypes(exclude=['object','category']).columns\n",
    "\n",
    "preprocessor = ColumnTransformer(\n",
    "        transformers=[\n",
    "            ('cat',OneHotEncoder(handle_unknown='ignore',sparse_output=False),categorical_features)\n",
    "        ],\n",
    "        remainder='passthrough'\n",
    ")"
   ]
  },
  {
   "cell_type": "code",
   "execution_count": null,
   "id": "c46e3d8a",
   "metadata": {},
   "outputs": [],
   "source": [
    "# Combine preprocessing model and the linear regression model into a single pipeline\n",
    "modelo_lr = Pipeline(steps=[\n",
    "    ('preprocessor',preprocessor),\n",
    "    ('linreg',LinearRegression())\n",
    "])"
   ]
  },
  {
   "cell_type": "code",
   "execution_count": null,
   "id": "ff45b1f8",
   "metadata": {},
   "outputs": [],
   "source": [
    "# Setup 10-fold cross-validation\n",
    "random_seed = 1\n",
    "kf = KFold(n_splits=10,shuffle=True,random_state=random_seed)\n",
    "scores = cross_val_score(modelo_lr,X,y,cv=kf,scoring='neg_mean_squared_error')\n",
    "rmse_lr = np.sqrt(np.mean(-1*scores))\n",
    "rmse_lr"
   ]
  },
  {
   "cell_type": "code",
   "execution_count": null,
   "id": "a84e4dbe",
   "metadata": {},
   "outputs": [],
   "source": [
    "modelo_lr.fit(X,y)"
   ]
  },
  {
   "cell_type": "code",
   "execution_count": null,
   "id": "09f2a53c",
   "metadata": {},
   "outputs": [],
   "source": [
    "diamantes2 = pd.read_csv(\"diamantes2.csv\")"
   ]
  },
  {
   "cell_type": "code",
   "execution_count": null,
   "id": "c79aa8e5",
   "metadata": {},
   "outputs": [],
   "source": [
    "newy = diamantes2.price\n",
    "newX = diamantes2.drop(diamantes2.columns[[0,7]],axis=1)"
   ]
  },
  {
   "cell_type": "code",
   "execution_count": null,
   "id": "cf094ddc",
   "metadata": {},
   "outputs": [],
   "source": [
    "y_pred = modelo_lr.predict(newX)\n",
    "# Compute Mean Squared Error\n",
    "mse = mean_squared_error(newy,y_pred)\n",
    "rmse = np.sqrt(mse)\n",
    "print(f\"RMSE: {rmse}\")"
   ]
  },
  {
   "cell_type": "code",
   "execution_count": null,
   "id": "be73dfbc",
   "metadata": {},
   "outputs": [],
   "source": []
  }
 ],
 "metadata": {
  "kernelspec": {
   "display_name": "Python 3 (ipykernel)",
   "language": "python",
   "name": "python3"
  },
  "language_info": {
   "codemirror_mode": {
    "name": "ipython",
    "version": 3
   },
   "file_extension": ".py",
   "mimetype": "text/x-python",
   "name": "python",
   "nbconvert_exporter": "python",
   "pygments_lexer": "ipython3",
   "version": "3.11.4"
  }
 },
 "nbformat": 4,
 "nbformat_minor": 5
}
