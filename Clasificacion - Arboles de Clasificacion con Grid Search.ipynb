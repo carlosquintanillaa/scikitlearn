{
 "cells": [
  {
   "cell_type": "code",
   "execution_count": null,
   "id": "ac5f38cf",
   "metadata": {},
   "outputs": [],
   "source": [
    "# Load libraries\n",
    "import numpy as np\n",
    "import pandas as pd\n",
    "from sklearn.model_selection import StratifiedKFold, GridSearchCV\n",
    "from sklearn.metrics import accuracy_score, confusion_matrix, roc_auc_score\n",
    "from sklearn.tree import DecisionTreeClassifier \n",
    "from sklearn.preprocessing import OneHotEncoder\n",
    "from sklearn.compose import ColumnTransformer \n",
    "from sklearn.pipeline import Pipeline"
   ]
  },
  {
   "cell_type": "code",
   "execution_count": null,
   "id": "3d70da19",
   "metadata": {},
   "outputs": [],
   "source": [
    "# Load data\n",
    "bank1 = pd.read_csv(\"bank1.csv\")"
   ]
  },
  {
   "cell_type": "code",
   "execution_count": null,
   "id": "da62ac61",
   "metadata": {},
   "outputs": [],
   "source": [
    "# Define roles for diamantes1.csv\n",
    "y = np.where(bank1['y']=='yes',1,0)\n",
    "X = bank1.drop(bank1.columns[[0,9]],axis=1)"
   ]
  },
  {
   "cell_type": "code",
   "execution_count": null,
   "id": "50a24068",
   "metadata": {},
   "outputs": [],
   "source": [
    "# Define the preprocessing pipeline\n",
    "categorical_features = X.select_dtypes(include=['object','category']).columns\n",
    "numeric_features = X.select_dtypes(exclude=['object','category']).columns\n",
    "\n",
    "preprocessor = ColumnTransformer(\n",
    "        transformers=[\n",
    "            ('cat',OneHotEncoder(handle_unknown='ignore',sparse_output=False),categorical_features)\n",
    "        ],\n",
    "    remainder = 'passthrough'\n",
    ")"
   ]
  },
  {
   "cell_type": "code",
   "execution_count": null,
   "id": "c46e3d8a",
   "metadata": {},
   "outputs": [],
   "source": [
    "# Combine preprocessing model and the knn model into a single pipeline\n",
    "param_grid = {'tree__max_depth': [3,5,10,20]}\n",
    "\n",
    "modelo_tree = Pipeline(steps=[\n",
    "    ('preprocessor',preprocessor),\n",
    "    ('tree',DecisionTreeClassifier())\n",
    "])"
   ]
  },
  {
   "cell_type": "code",
   "execution_count": null,
   "id": "ff45b1f8",
   "metadata": {},
   "outputs": [],
   "source": [
    "# Setup 10-fold stratified cross-validation\n",
    "random_seed = 1\n",
    "kf = StratifiedKFold(n_splits=10,shuffle=True,random_state=random_seed)\n",
    "\n",
    "# Define score metric. It can be either 'accuracy' or 'roc_auc'\n",
    "\n",
    "scoring = 'accuracy'\n",
    "\n",
    "# Define grid\n",
    "\n",
    "model_tree_grid = GridSearchCV(modelo_tree,param_grid,cv=kf,scoring=scoring)\n",
    "\n",
    "#Estimate best model\n",
    "\n",
    "model_tree_grid.fit(X,y)"
   ]
  },
  {
   "cell_type": "code",
   "execution_count": null,
   "id": "99bbb10d",
   "metadata": {},
   "outputs": [],
   "source": [
    "resultados=pd.DataFrame(model_tree_grid.cv_results_)\n",
    "resultados.loc[:,['param_tree__max_depth','mean_test_score','std_test_score']]"
   ]
  },
  {
   "cell_type": "code",
   "execution_count": null,
   "id": "09f2a53c",
   "metadata": {},
   "outputs": [],
   "source": [
    "bank2 = pd.read_csv(\"bank2.csv\")"
   ]
  },
  {
   "cell_type": "code",
   "execution_count": null,
   "id": "c79aa8e5",
   "metadata": {},
   "outputs": [],
   "source": [
    "newy = np.where(bank2['y']=='yes',1,0)\n",
    "newX = bank2.drop(bank2.columns[[0,9]],axis=1)"
   ]
  },
  {
   "cell_type": "code",
   "execution_count": null,
   "id": "cf094ddc",
   "metadata": {},
   "outputs": [],
   "source": [
    "y_pred = model_tree_grid.predict(newX)\n",
    "probs_pred = model_tree_grid.predict_proba(newX)[:,1]\n"
   ]
  },
  {
   "cell_type": "code",
   "execution_count": null,
   "id": "be73dfbc",
   "metadata": {},
   "outputs": [],
   "source": [
    "print(\"Accuracy:\",accuracy_score(newy,y_pred))\n",
    "print(\"Confusion Matrix:\\n\",confusion_matrix(newy,y_pred))\n",
    "print(\"AUC:\",roc_auc_score(newy,probs_pred))"
   ]
  },
  {
   "cell_type": "code",
   "execution_count": null,
   "id": "f1ac75e5",
   "metadata": {},
   "outputs": [],
   "source": []
  }
 ],
 "metadata": {
  "kernelspec": {
   "display_name": "Python 3 (ipykernel)",
   "language": "python",
   "name": "python3"
  },
  "language_info": {
   "codemirror_mode": {
    "name": "ipython",
    "version": 3
   },
   "file_extension": ".py",
   "mimetype": "text/x-python",
   "name": "python",
   "nbconvert_exporter": "python",
   "pygments_lexer": "ipython3",
   "version": "3.11.4"
  }
 },
 "nbformat": 4,
 "nbformat_minor": 5
}
