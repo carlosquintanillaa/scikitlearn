{
 "cells": [
  {
   "cell_type": "code",
   "execution_count": null,
   "id": "ac5f38cf",
   "metadata": {},
   "outputs": [],
   "source": [
    "# Load libraries\n",
    "import numpy as np\n",
    "import pandas as pd\n",
    "from sklearn.model_selection import KFold\n",
    "from sklearn.metrics import mean_squared_error \n",
    "from sklearn.linear_model import LinearRegression, RidgeCV, LassoCV\n",
    "from sklearn.neighbors import KNeighborsRegressor \n",
    "from sklearn.tree import DecisionTreeRegressor\n",
    "from sklearn.ensemble import StackingRegressor\n",
    "from sklearn.preprocessing import StandardScaler, OneHotEncoder \n",
    "from sklearn.compose import ColumnTransformer \n",
    "from sklearn.pipeline import Pipeline"
   ]
  },
  {
   "cell_type": "code",
   "execution_count": null,
   "id": "3d70da19",
   "metadata": {},
   "outputs": [],
   "source": [
    "# Load training set\n",
    "diamantes1 = pd.read_csv(\"diamantes1.csv\")"
   ]
  },
  {
   "cell_type": "code",
   "execution_count": null,
   "id": "da62ac61",
   "metadata": {},
   "outputs": [],
   "source": [
    "# Define roles for diamantes1.csv\n",
    "y = diamantes1.price\n",
    "X = diamantes1.drop(diamantes1.columns[[0,7]],axis=1)"
   ]
  },
  {
   "cell_type": "code",
   "execution_count": null,
   "id": "50a24068",
   "metadata": {},
   "outputs": [],
   "source": [
    "# Define two preprocessing pipelines\n",
    "categorical_features = X.select_dtypes(include=['object','category']).columns\n",
    "numeric_features = X.select_dtypes(exclude=['object','category']).columns\n",
    "\n",
    "preprocessor1 = ColumnTransformer(\n",
    "        transformers=[\n",
    "            ('cat',OneHotEncoder(handle_unknown='ignore',sparse_output=False),categorical_features),\n",
    "            ('num','passthrough', numeric_features)  \n",
    "        ]\n",
    ")\n",
    "\n",
    "\n",
    "preprocessor2 = ColumnTransformer(\n",
    "        transformers=[\n",
    "            ('cat',OneHotEncoder(handle_unknown='ignore',sparse_output=False),categorical_features),\n",
    "            ('num',StandardScaler(),numeric_features)\n",
    "        ]\n",
    ")"
   ]
  },
  {
   "cell_type": "code",
   "execution_count": null,
   "id": "c46e3d8a",
   "metadata": {},
   "outputs": [],
   "source": [
    "# Combine preprocessing model and the KNN regression model into a single pipeline\n",
    "\n",
    "modelo_linreg = Pipeline(steps=[\n",
    "    ('preprocess',preprocessor1),\n",
    "    ('linreg',LinearRegression())\n",
    "])\n",
    "\n",
    "modelo_knn1 = Pipeline(steps=[\n",
    "    ('preprocessor',preprocessor2),\n",
    "    ('knn',KNeighborsRegressor(n_neighbors=1))\n",
    "])\n",
    "\n",
    "modelo_knn5 = Pipeline(steps=[\n",
    "    ('preprocessor',preprocessor2),\n",
    "    ('knn',KNeighborsRegressor(n_neighbors=5))\n",
    "])\n",
    "\n",
    "modelo_knn10 = Pipeline(steps=[\n",
    "    ('preprocessor',preprocessor2),\n",
    "    ('knn',KNeighborsRegressor(n_neighbors=10))\n",
    "])\n",
    "\n",
    "modelo_knn30 = Pipeline(steps=[\n",
    "    ('preprocessor',preprocessor2),\n",
    "    ('knn',KNeighborsRegressor(n_neighbors=30))\n",
    "])\n",
    "\n",
    "\n",
    "modelo_tree3 = Pipeline(steps=[\n",
    "    ('preprocess',preprocessor1),\n",
    "    ('tree',DecisionTreeRegressor(max_depth=3))\n",
    "])\n",
    "\n",
    "modelo_tree5 = Pipeline(steps=[\n",
    "    ('preprocess',preprocessor1),\n",
    "    ('tree',DecisionTreeRegressor(max_depth=5))\n",
    "])\n",
    "\n",
    "modelo_tree10 = Pipeline(steps=[\n",
    "    ('preprocess',preprocessor1),\n",
    "    ('tree',DecisionTreeRegressor(max_depth=10))\n",
    "])\n",
    "\n",
    "modelo_tree20 = Pipeline(steps=[\n",
    "    ('preprocess',preprocessor1),\n",
    "    ('tree',DecisionTreeRegressor(max_depth=20))\n",
    "])"
   ]
  },
  {
   "cell_type": "code",
   "execution_count": null,
   "id": "aa3e648a",
   "metadata": {},
   "outputs": [],
   "source": [
    "# Setup 10-fold cross-validation\n",
    "random_seed = 1\n",
    "kf = KFold(n_splits=10,shuffle=True,random_state=random_seed)\n",
    "\n",
    "estimators = [\n",
    "    ('linreg', modelo_linreg),\n",
    "    ('knn1', modelo_knn1),\n",
    "    ('knn5', modelo_knn5),\n",
    "    ('knn10', modelo_knn10),\n",
    "    ('knn30', modelo_knn30),\n",
    "    ('tree3',modelo_tree3),\n",
    "    ('tree5',modelo_tree5),\n",
    "    ('tree10',modelo_tree10),\n",
    "    ('tree20',modelo_tree20)\n",
    "]"
   ]
  },
  {
   "cell_type": "code",
   "execution_count": null,
   "id": "d419f15f",
   "metadata": {},
   "outputs": [],
   "source": [
    "#Declare the ensemble, and fit it using either LinearRegression, RidgeCV or LassoCV as final estimator \n",
    "StackedEnsemble = StackingRegressor(estimators=estimators,final_estimator=RidgeCV(),cv=kf)\n",
    "StackedEnsemble.fit(X, y)"
   ]
  },
  {
   "cell_type": "code",
   "execution_count": null,
   "id": "abfb2ee7",
   "metadata": {},
   "outputs": [],
   "source": [
    "coefficients = StackedEnsemble.final_estimator_.coef_\n",
    "# Display the coefficients corresponding to each model\n",
    "for model_name, coef in zip([name for name, _ in estimators], coefficients):\n",
    "    print(f\"Coefficient for {model_name}: {coef}\")"
   ]
  },
  {
   "cell_type": "code",
   "execution_count": null,
   "id": "dd1eff7a",
   "metadata": {},
   "outputs": [],
   "source": [
    "# Load test set\n",
    "diamantes2 = pd.read_csv(\"diamantes2.csv\")"
   ]
  },
  {
   "cell_type": "code",
   "execution_count": null,
   "id": "d3990211",
   "metadata": {},
   "outputs": [],
   "source": [
    "# Define roles in test set \n",
    "newy = diamantes2.price\n",
    "newX = diamantes2.drop(diamantes2.columns[[0,7]],axis=1)"
   ]
  },
  {
   "cell_type": "code",
   "execution_count": null,
   "id": "cf094ddc",
   "metadata": {},
   "outputs": [],
   "source": [
    "# Evaluate performance (rmse) on test set\n",
    "y_pred = StackedEnsemble.predict(newX)\n",
    "# Compute Mean Squared Error\n",
    "mse = mean_squared_error(newy,y_pred)\n",
    "rmse = np.sqrt(mse)\n",
    "print(f\"RMSE: {rmse}\")"
   ]
  }
 ],
 "metadata": {
  "kernelspec": {
   "display_name": "Python 3 (ipykernel)",
   "language": "python",
   "name": "python3"
  },
  "language_info": {
   "codemirror_mode": {
    "name": "ipython",
    "version": 3
   },
   "file_extension": ".py",
   "mimetype": "text/x-python",
   "name": "python",
   "nbconvert_exporter": "python",
   "pygments_lexer": "ipython3",
   "version": "3.11.4"
  }
 },
 "nbformat": 4,
 "nbformat_minor": 5
}
