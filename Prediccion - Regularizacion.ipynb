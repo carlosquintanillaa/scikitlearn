{
 "cells": [
  {
   "cell_type": "code",
   "execution_count": 9,
   "id": "ac5f38cf",
   "metadata": {},
   "outputs": [],
   "source": [
    "# Load libraries\n",
    "import numpy as np\n",
    "import pandas as pd\n",
    "from sklearn.model_selection import cross_val_score, KFold\n",
    "from sklearn.metrics import mean_squared_error \n",
    "from sklearn.linear_model import LinearRegression, RidgeCV\n",
    "from sklearn.preprocessing import OneHotEncoder, StandardScaler\n",
    "from sklearn.compose import ColumnTransformer \n",
    "from sklearn.pipeline import Pipeline"
   ]
  },
  {
   "cell_type": "code",
   "execution_count": 2,
   "id": "3d70da19",
   "metadata": {},
   "outputs": [],
   "source": [
    "# Load data\n",
    "datos = pd.read_csv(\"yield.csv\")"
   ]
  },
  {
   "cell_type": "code",
   "execution_count": 3,
   "id": "da62ac61",
   "metadata": {},
   "outputs": [],
   "source": [
    "# Define roles for diamantes1.csv\n",
    "y = datos.Yield\n",
    "X = datos.drop(datos.columns[[57, 58]], axis=1)"
   ]
  },
  {
   "cell_type": "code",
   "execution_count": 4,
   "id": "50a24068",
   "metadata": {},
   "outputs": [],
   "source": [
    "# Define the preprocessing pipeline\n",
    "categorical_features = X.select_dtypes(include=['object','category']).columns\n",
    "numeric_features = X.select_dtypes(exclude=['object','category']).columns\n",
    "\n",
    "preprocessor = ColumnTransformer(\n",
    "        transformers=[\n",
    "            ('cat',OneHotEncoder(handle_unknown='ignore',sparse_output=False),categorical_features),\n",
    "            ('num',StandardScaler(),numeric_features)\n",
    "        ]\n",
    ")"
   ]
  },
  {
   "cell_type": "code",
   "execution_count": 5,
   "id": "c46e3d8a",
   "metadata": {},
   "outputs": [],
   "source": [
    "# Combine preprocessing model and the linear regression model into a single pipeline\n",
    "modelo_lr = Pipeline(steps=[\n",
    "    ('preprocessor',preprocessor),\n",
    "    ('linreg',LinearRegression())\n",
    "])"
   ]
  },
  {
   "cell_type": "code",
   "execution_count": 6,
   "id": "ff45b1f8",
   "metadata": {},
   "outputs": [
    {
     "data": {
      "text/plain": [
       "1.4378914851279516"
      ]
     },
     "execution_count": 6,
     "metadata": {},
     "output_type": "execute_result"
    }
   ],
   "source": [
    "# Setup 10-fold cross-validation\n",
    "random_seed = 1\n",
    "kf = KFold(n_splits=10,shuffle=True,random_state=random_seed)\n",
    "scores = cross_val_score(modelo_lr,X,y,cv=kf,scoring='neg_mean_squared_error')\n",
    "rmse_lr = np.sqrt(np.mean(-1*scores))\n",
    "rmse_lr"
   ]
  },
  {
   "cell_type": "code",
   "execution_count": 13,
   "id": "be73dfbc",
   "metadata": {},
   "outputs": [],
   "source": [
    "# RidgeCV\n",
    "alphas = np.logspace(-6, 6, 30)\n",
    "\n",
    "modelo_ridge= Pipeline(steps=[\n",
    "    ('preprocessor',preprocessor),\n",
    "    ('ridge',RidgeCV(alphas=alphas, store_cv_values=True))\n",
    "])\n",
    "\n",
    "\n",
    "# Cross-validation for RidgeCV\n",
    "scores_ridge = cross_val_score(modelo_ridge, X, y, cv=kf, scoring='neg_mean_squared_error')\n",
    "rmse_ridge = np.sqrt(np.mean(-scores_ridge))\n",
    "\n"
   ]
  },
  {
   "cell_type": "code",
   "execution_count": 14,
   "id": "36827bc7",
   "metadata": {},
   "outputs": [
    {
     "data": {
      "text/plain": [
       "1.9945218293760152"
      ]
     },
     "execution_count": 14,
     "metadata": {},
     "output_type": "execute_result"
    }
   ],
   "source": [
    "rmse_ridge"
   ]
  },
  {
   "cell_type": "code",
   "execution_count": 15,
   "id": "33b08e16",
   "metadata": {},
   "outputs": [
    {
     "ename": "AttributeError",
     "evalue": "'Pipeline' object has no attribute 'alpha_'",
     "output_type": "error",
     "traceback": [
      "\u001b[0;31m---------------------------------------------------------------------------\u001b[0m",
      "\u001b[0;31mAttributeError\u001b[0m                            Traceback (most recent call last)",
      "Cell \u001b[0;32mIn[15], line 3\u001b[0m\n\u001b[1;32m      1\u001b[0m \u001b[38;5;66;03m# Fit RidgeCV to find the best alpha\u001b[39;00m\n\u001b[1;32m      2\u001b[0m modelo_ridge\u001b[38;5;241m.\u001b[39mfit(X, y)\n\u001b[0;32m----> 3\u001b[0m best_alpha \u001b[38;5;241m=\u001b[39m modelo_ridge\u001b[38;5;241m.\u001b[39malpha_\n",
      "\u001b[0;31mAttributeError\u001b[0m: 'Pipeline' object has no attribute 'alpha_'"
     ]
    }
   ],
   "source": [
    "# Fit RidgeCV to find the best alpha\n",
    "modelo_ridge.fit(X, y)\n",
    "best_alpha = modelo_ridge.alpha_"
   ]
  },
  {
   "cell_type": "code",
   "execution_count": null,
   "id": "364b0ac6",
   "metadata": {},
   "outputs": [],
   "source": [
    "print(f'RMSE for Ridge Regression: {rmse_ridge}')\n",
    "print(f'Best alpha for Ridge Regression: {best_alpha}')"
   ]
  }
 ],
 "metadata": {
  "kernelspec": {
   "display_name": "Python 3 (ipykernel)",
   "language": "python",
   "name": "python3"
  },
  "language_info": {
   "codemirror_mode": {
    "name": "ipython",
    "version": 3
   },
   "file_extension": ".py",
   "mimetype": "text/x-python",
   "name": "python",
   "nbconvert_exporter": "python",
   "pygments_lexer": "ipython3",
   "version": "3.11.4"
  }
 },
 "nbformat": 4,
 "nbformat_minor": 5
}
