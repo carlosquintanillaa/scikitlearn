{
 "cells": [
  {
   "cell_type": "code",
   "execution_count": 1,
   "id": "ac5f38cf",
   "metadata": {},
   "outputs": [],
   "source": [
    "# Load libraries\n",
    "import numpy as np\n",
    "import pandas as pd\n",
    "from sklearn.model_selection import cross_val_score, KFold\n",
    "from sklearn.metrics import mean_squared_error \n",
    "from sklearn.linear_model import LinearRegression, RidgeCV, LassoCV\n",
    "from sklearn.preprocessing import OneHotEncoder \n",
    "from sklearn.compose import ColumnTransformer \n",
    "from sklearn.pipeline import Pipeline"
   ]
  },
  {
   "cell_type": "code",
   "execution_count": 2,
   "id": "da62ac61",
   "metadata": {},
   "outputs": [],
   "source": [
    "datos = pd.read_csv(\"yield.csv\")\n",
    "y = datos.Yield\n",
    "X = datos.drop(datos.columns[[57,58]],axis=1)"
   ]
  },
  {
   "cell_type": "code",
   "execution_count": 3,
   "id": "c46e3d8a",
   "metadata": {},
   "outputs": [],
   "source": [
    "# Linear Regression\n",
    "modelo_lr = LinearRegression()\n"
   ]
  },
  {
   "cell_type": "code",
   "execution_count": 5,
   "id": "ff45b1f8",
   "metadata": {},
   "outputs": [
    {
     "name": "stdout",
     "output_type": "stream",
     "text": [
      "RMSE for Linear Regression: 1.4728999607325803\n"
     ]
    }
   ],
   "source": [
    "# Setup 10-fold cross-validation\n",
    "random_seed = 1\n",
    "kf = KFold(n_splits=10, shuffle=True, random_state=random_seed)\n",
    "scores_lr = cross_val_score(modelo_lr, X, y, cv=kf, scoring='neg_mean_squared_error')\n",
    "rmse_lr = np.sqrt(np.mean(-scores_lr))\n",
    "print(f'RMSE for Linear Regression: {rmse_lr}')\n"
   ]
  },
  {
   "cell_type": "code",
   "execution_count": 9,
   "id": "e2dd740d",
   "metadata": {},
   "outputs": [],
   "source": [
    "# RidgeCV\n",
    "alphas = np.logspace(-6, 6, 30)\n",
    "modelo_ridge = RidgeCV(alphas=alphas, store_cv_values=True)"
   ]
  },
  {
   "cell_type": "code",
   "execution_count": 10,
   "id": "21a4c2bb",
   "metadata": {},
   "outputs": [
    {
     "name": "stdout",
     "output_type": "stream",
     "text": [
      "RMSE for Ridge Regression: 1.9365769043201555\n"
     ]
    }
   ],
   "source": [
    "# Cross-validation for RidgeCV\n",
    "scores_ridge = cross_val_score(modelo_ridge, X, y, cv=kf, scoring='neg_mean_squared_error')\n",
    "rmse_ridge = np.sqrt(np.mean(-scores_ridge))\n",
    "print(f'RMSE for Ridge Regression: {rmse_ridge}')"
   ]
  },
  {
   "cell_type": "code",
   "execution_count": 8,
   "id": "b4a3d1fd",
   "metadata": {},
   "outputs": [
    {
     "data": {
      "text/plain": [
       "array([1.e-06, 1.e-05, 1.e-04, 1.e-03, 1.e-02, 1.e-01, 1.e+00, 1.e+01,\n",
       "       1.e+02, 1.e+03, 1.e+04, 1.e+05, 1.e+06])"
      ]
     },
     "execution_count": 8,
     "metadata": {},
     "output_type": "execute_result"
    }
   ],
   "source": [
    "alphas"
   ]
  },
  {
   "cell_type": "code",
   "execution_count": 11,
   "id": "5eed5ba7",
   "metadata": {},
   "outputs": [
    {
     "ename": "AttributeError",
     "evalue": "'RidgeCV' object has no attribute 'alpha_'",
     "output_type": "error",
     "traceback": [
      "\u001b[0;31m---------------------------------------------------------------------------\u001b[0m",
      "\u001b[0;31mAttributeError\u001b[0m                            Traceback (most recent call last)",
      "Cell \u001b[0;32mIn[11], line 1\u001b[0m\n\u001b[0;32m----> 1\u001b[0m best_alpha \u001b[38;5;241m=\u001b[39m modelo_ridge\u001b[38;5;241m.\u001b[39malpha_\n\u001b[1;32m      3\u001b[0m \u001b[38;5;28mprint\u001b[39m(\u001b[38;5;124mf\u001b[39m\u001b[38;5;124m'\u001b[39m\u001b[38;5;124mRMSE for Ridge Regression: \u001b[39m\u001b[38;5;132;01m{\u001b[39;00mrmse_ridge\u001b[38;5;132;01m}\u001b[39;00m\u001b[38;5;124m'\u001b[39m)\n\u001b[1;32m      4\u001b[0m \u001b[38;5;28mprint\u001b[39m(\u001b[38;5;124mf\u001b[39m\u001b[38;5;124m'\u001b[39m\u001b[38;5;124mBest alpha for Ridge Regression: \u001b[39m\u001b[38;5;132;01m{\u001b[39;00mbest_alpha\u001b[38;5;132;01m}\u001b[39;00m\u001b[38;5;124m'\u001b[39m)\n",
      "\u001b[0;31mAttributeError\u001b[0m: 'RidgeCV' object has no attribute 'alpha_'"
     ]
    }
   ],
   "source": [
    "best_alpha = modelo_ridge.alpha_\n",
    "\n",
    "print(f'RMSE for Ridge Regression: {rmse_ridge}')\n",
    "print(f'Best alpha for Ridge Regression: {best_alpha}')"
   ]
  },
  {
   "cell_type": "code",
   "execution_count": 13,
   "id": "5957bb96",
   "metadata": {},
   "outputs": [
    {
     "name": "stdout",
     "output_type": "stream",
     "text": [
      "RMSE for Ridge Regression: 1.9365769043201555\n",
      "Best alpha for Ridge Regression: 489.3900918477499\n"
     ]
    }
   ],
   "source": [
    "# RidgeCV\n",
    "alphas = np.logspace(-6, 6, 30)\n",
    "modelo_ridge = RidgeCV(alphas=alphas, store_cv_values=True)\n",
    "\n",
    "# Fit RidgeCV to find the best alpha\n",
    "modelo_ridge.fit(X, y)\n",
    "best_alpha = modelo_ridge.alpha_\n",
    "\n",
    "# Cross-validation for RidgeCV\n",
    "scores_ridge = cross_val_score(modelo_ridge, X, y, cv=kf, scoring='neg_mean_squared_error')\n",
    "rmse_ridge = np.sqrt(np.mean(-scores_ridge))\n",
    "\n",
    "print(f'RMSE for Ridge Regression: {rmse_ridge}')\n",
    "print(f'Best alpha for Ridge Regression: {best_alpha}')"
   ]
  },
  {
   "cell_type": "code",
   "execution_count": 14,
   "id": "44c7021f",
   "metadata": {},
   "outputs": [
    {
     "name": "stdout",
     "output_type": "stream",
     "text": [
      "RMSE for Linear Regression: 1.4406486448324616\n",
      "RMSE for Ridge Regression: 1.2325634309701574\n",
      "Best alpha for Ridge Regression: 100.0\n"
     ]
    }
   ],
   "source": [
    "import numpy as np\n",
    "import pandas as pd\n",
    "from sklearn.model_selection import cross_val_score, KFold\n",
    "from sklearn.linear_model import LinearRegression, RidgeCV\n",
    "from sklearn.preprocessing import StandardScaler\n",
    "\n",
    "# Load dataset\n",
    "datos = pd.read_csv(\"yield.csv\")\n",
    "y = datos.Yield\n",
    "X = datos.drop(datos.columns[[57, 58]], axis=1)\n",
    "\n",
    "# Standardize the data\n",
    "scaler = StandardScaler()\n",
    "X_scaled = scaler.fit_transform(X)\n",
    "\n",
    "# Linear Regression\n",
    "modelo_lr = LinearRegression()\n",
    "\n",
    "# Setup 10-fold cross-validation\n",
    "random_seed = 1\n",
    "kf = KFold(n_splits=10, shuffle=True, random_state=random_seed)\n",
    "scores_lr = cross_val_score(modelo_lr, X_scaled, y, cv=kf, scoring='neg_mean_squared_error')\n",
    "rmse_lr = np.sqrt(np.mean(-scores_lr))\n",
    "print(f'RMSE for Linear Regression: {rmse_lr}')\n",
    "\n",
    "# RidgeCV\n",
    "alphas = np.logspace(-6, 6, 13)\n",
    "modelo_ridge = RidgeCV(alphas=alphas, store_cv_values=True)\n",
    "\n",
    "# Fit RidgeCV to find the best alpha\n",
    "modelo_ridge.fit(X_scaled, y)\n",
    "best_alpha = modelo_ridge.alpha_\n",
    "\n",
    "# Cross-validation for RidgeCV\n",
    "scores_ridge = cross_val_score(modelo_ridge, X_scaled, y, cv=kf, scoring='neg_mean_squared_error')\n",
    "rmse_ridge = np.sqrt(np.mean(-scores_ridge))\n",
    "\n",
    "print(f'RMSE for Ridge Regression: {rmse_ridge}')\n",
    "print(f'Best alpha for Ridge Regression: {best_alpha}')\n"
   ]
  },
  {
   "cell_type": "code",
   "execution_count": null,
   "id": "a445b4d1",
   "metadata": {},
   "outputs": [],
   "source": []
  }
 ],
 "metadata": {
  "kernelspec": {
   "display_name": "Python 3 (ipykernel)",
   "language": "python",
   "name": "python3"
  },
  "language_info": {
   "codemirror_mode": {
    "name": "ipython",
    "version": 3
   },
   "file_extension": ".py",
   "mimetype": "text/x-python",
   "name": "python",
   "nbconvert_exporter": "python",
   "pygments_lexer": "ipython3",
   "version": "3.11.4"
  }
 },
 "nbformat": 4,
 "nbformat_minor": 5
}
